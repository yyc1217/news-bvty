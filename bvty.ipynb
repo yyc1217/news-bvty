{
 "cells": [
  {
   "cell_type": "markdown",
   "metadata": {},
   "source": [
    "# 以創意擇優對新聞進行可信度評價"
   ]
  },
  {
   "cell_type": "markdown",
   "metadata": {},
   "source": [
    "# 基本假設\n",
    "1. 可信度定義：1 ~ 5。\n",
    "2. 每個使用者的評分都是理性的\n",
    "3. 所有新聞被所有使用者評分\n",
    "4. 所有評分被所有使用者評價\n",
    "\n",
    "TODO 另寫一篇文章，來講解這裡的東西，用小論文的格式，放在readme"
   ]
  },
  {
   "cell_type": "markdown",
   "metadata": {},
   "source": [
    "### 變數定義\n",
    "變數名稱|中文|說明\n",
    ":----|:----:|----\n",
    "reporter|報導者|\n",
    "news|新聞|\n",
    "reader|讀者|\n",
    "review|評分|對新聞打分數\n",
    "reviewer|評分者|對新聞打分數的讀者\n",
    "judge|評價|對評分打分數\n",
    "judger|評價者|對評分打分數的讀者\n",
    "score|分數|\n",
    "weight|權重|即為可信度"
   ]
  },
  {
   "cell_type": "markdown",
   "metadata": {},
   "source": [
    "### 產生測試資料"
   ]
  },
  {
   "cell_type": "markdown",
   "metadata": {},
   "source": [
    "#### 引入套件及資料筆數"
   ]
  },
  {
   "cell_type": "code",
   "execution_count": null,
   "metadata": {},
   "outputs": [],
   "source": [
    "'''\n",
    "初始化\n",
    "'''\n",
    "import pandas as pd\n",
    "import numpy as np\n",
    "\n",
    "num = {\n",
    "    \n",
    "    # 報導者人數\n",
    "    'reporter' : 5,\n",
    "    \n",
    "    # 每個報導者生產新聞數\n",
    "    'news_per_reporter' : 80,\n",
    "    \n",
    "    # 讀者人數\n",
    "    'reader' : 20,\n",
    "    \n",
    "    # 讀者舊權重保留筆數\n",
    "    'reader_pass_weight_window' : 10 \n",
    "}"
   ]
  },
  {
   "cell_type": "markdown",
   "metadata": {},
   "source": [
    "#### 分數範圍管理"
   ]
  },
  {
   "cell_type": "code",
   "execution_count": null,
   "metadata": {},
   "outputs": [],
   "source": [
    "class Scale:\n",
    "    \n",
    "    def __init__(self, min = 1, max = 10):\n",
    "        self.min = min\n",
    "        self.max = max\n",
    "        self.mean = (min + max) / 2\n",
    "        self.sigma = (self.max - self.mean) / 3\n",
    "        \n",
    "    def arange(self):\n",
    "        return np.arange(self.min, self.max + 1)\n",
    "\n",
    "    def translateZ(self, z_score):\n",
    "        translated = z_score * self.sigma + self.mean\n",
    "        return max(min(translated, self.max), self.min)\n",
    "    \n",
    "scale = Scale()"
   ]
  },
  {
   "cell_type": "markdown",
   "metadata": {},
   "source": [
    "#### Helper Functions"
   ]
  },
  {
   "cell_type": "code",
   "execution_count": null,
   "metadata": {},
   "outputs": [],
   "source": [
    "# 讓index做為id，並獨立存在同一欄內\n",
    "def index_as_id(data_frame, suffix):\n",
    "    \n",
    "    data_frame[suffix + '_id'] = data_frame.index\n",
    "    \n",
    "    columns = data_frame.columns.tolist()\n",
    "    columns = columns[-1:] + columns[:-1]\n",
    "    data_frame = data_frame[columns]\n",
    "    \n",
    "    return data_frame"
   ]
  },
  {
   "cell_type": "markdown",
   "metadata": {},
   "source": [
    "#### 讀者"
   ]
  },
  {
   "cell_type": "code",
   "execution_count": null,
   "metadata": {},
   "outputs": [],
   "source": [
    "def get_readers(num):\n",
    "    readers = pd.DataFrame({\n",
    "        'reader_id' : np.arange(num['reader'])\n",
    "    })\n",
    "    return readers\n",
    "\n",
    "readers = get_readers(num)\n",
    "readers.head()"
   ]
  },
  {
   "cell_type": "markdown",
   "metadata": {},
   "source": [
    "#### 讀者權重管理"
   ]
  },
  {
   "cell_type": "code",
   "execution_count": null,
   "metadata": {},
   "outputs": [],
   "source": [
    "class ReaderWeightHolder:\n",
    "    \n",
    "    # 目前的權重\n",
    "    weights = {}\n",
    "    \n",
    "    # 過去的權重\n",
    "    past_weights = {}\n",
    "\n",
    "    def __init__(self, readers, init_mean, reader_pass_weight_window = 10):\n",
    "        self.readers = readers\n",
    "        self.reader_pass_weight_window = reader_pass_weight_window\n",
    "        self.init_mean = init_mean\n",
    "\n",
    "        self.reset()\n",
    "\n",
    "    def reset(self):\n",
    "        self.past_weights = {reader_id: np.repeat(self.init_mean, self.reader_pass_weight_window).tolist() for reader_id in self.readers['reader_id']}\n",
    "        self.weights = {reader_id: self.init_mean for reader_id in self.readers['reader_id']}\n",
    "\n",
    "    def get(self, reader_id):\n",
    "        return self.weights[reader_id]\n",
    "\n",
    "    def inserts(self, new_weights):\n",
    "        \n",
    "        for reader_id, new_weight in new_weights.items():  \n",
    "            self.past_weights[reader_id].pop(0)\n",
    "            self.past_weights[reader_id].append(new_weight)\n",
    "            # TODO 簡單平均數、加權平均數、做對事情，權重越高\n",
    "            self.weights[reader_id] = sum(self.past_weights[reader_id]) / self.reader_pass_weight_window\n",
    "\n",
    "    def print_weights(self):\n",
    "        return pd.DataFrame.from_dict(reader_weight_holder.weights, orient = 'index', columns = ['weight']).rename_axis('user_id').head()\n",
    "    \n",
    "    def print_past_weights(self):\n",
    "        return pd.DataFrame.from_dict(reader_weight_holder.past_weights, orient = 'index').rename_axis('user_id').head()\n",
    "\n",
    "    def print_all(self):\n",
    "        print(self.weights)\n",
    "        print(self.past_weights)\n",
    "        \n",
    "reader_weight_holder = ReaderWeightHolder(readers, scale.mean, num['reader_pass_weight_window'])"
   ]
  },
  {
   "cell_type": "code",
   "execution_count": null,
   "metadata": {},
   "outputs": [],
   "source": [
    "reader_weight_holder.print_weights()"
   ]
  },
  {
   "cell_type": "code",
   "execution_count": null,
   "metadata": {},
   "outputs": [],
   "source": [
    "reader_weight_holder.print_past_weights()"
   ]
  },
  {
   "cell_type": "markdown",
   "metadata": {},
   "source": [
    "#### 報導者"
   ]
  },
  {
   "cell_type": "code",
   "execution_count": null,
   "metadata": {},
   "outputs": [],
   "source": [
    "def get_reporters(num):\n",
    "    \n",
    "    # 常態分佈下的分數機率\n",
    "    z_scores = np.random.randn(num['reporter'])\n",
    "    \n",
    "    # 換算成實際分數\n",
    "    scores = [scale.translateZ(z_score) for z_score in z_scores]\n",
    "    \n",
    "    reporters = pd.DataFrame({\n",
    "        'reporter_score': scores,\n",
    "        'reporter_z_scores': z_scores\n",
    "    })\n",
    "\n",
    "    return index_as_id(reporters, 'reporter')\n",
    "\n",
    "reporters = get_reporters(num)\n",
    "reporters.head()"
   ]
  },
  {
   "cell_type": "markdown",
   "metadata": {},
   "source": [
    "#### 新聞"
   ]
  },
  {
   "cell_type": "code",
   "execution_count": null,
   "metadata": {},
   "outputs": [],
   "source": [
    "def get_news(num, scale, reporters):\n",
    "    \n",
    "    # 報導者column\n",
    "    reporter_ids = list(reporters['reporter_id']) * num['news_per_reporter']\n",
    "    \n",
    "    #新聞報導者的可信度z分數\n",
    "    reporter_z_scores = list(reporters['reporter_z_scores']) * num['news_per_reporter']\n",
    "    \n",
    "    # 定義每則新聞的可信度z分數，因為與報導者相關，定義為 N(author.bvty, 1)，所以後面再加上報導者的可信度\n",
    "    news_z_scores = np.random.randn(len(reporter_ids)) + reporter_z_scores\n",
    "    \n",
    "    # 新聞的真實可信度\n",
    "    news_scores = [scale.translateZ(news_z_score) for news_z_score in news_z_scores]\n",
    "    \n",
    "    # TODO 視覺化一下，是否可信度高的報導者會擁有可信度高的新聞\n",
    "\n",
    "    news = pd.DataFrame({\n",
    "        'reporter_id' : reporter_ids,\n",
    "        'news_score' : news_scores\n",
    "    })\n",
    "    \n",
    "    return index_as_id(news, 'news')\n",
    "\n",
    "news = get_news(num, scale, reporters)\n",
    "news.head()\n",
    "#news.groupby('reporter_id')['news_score'].describe()"
   ]
  },
  {
   "cell_type": "markdown",
   "metadata": {},
   "source": [
    "#### 評分結果"
   ]
  },
  {
   "cell_type": "code",
   "execution_count": null,
   "metadata": {},
   "outputs": [],
   "source": [
    "def get_reviews(num, scale, reviewers, news):\n",
    "\n",
    "    # 先準備每個評分者要評分的每則新聞\n",
    "    prepared = [[reviewer_id, n.news_id, n.news_score] for reviewer_id in reviewers['reader_id'] for n in news.itertuples(index = False)]\n",
    "    reviews = pd.DataFrame(prepared, columns = ['reviewer_id', 'news_id', 'news_score'])\n",
    "\n",
    "    # TODO 可以與讀者的可信度做連結?\n",
    "    # TODO 視覺化一下，是否可信度高的讀者會做出可信度高的評分\n",
    "    \n",
    "    # 每個讀者對每則新聞的評分\n",
    "    reviews['review_score'] = np.random.choice(scale.arange(), len(prepared))\n",
    "\n",
    "    return index_as_id(reviews, 'review')\n",
    "\n",
    "reviews = get_reviews(num, scale, readers, news)\n",
    "reviews.head()"
   ]
  },
  {
   "cell_type": "markdown",
   "metadata": {},
   "source": [
    "#### 評價結果"
   ]
  },
  {
   "cell_type": "code",
   "execution_count": null,
   "metadata": {},
   "outputs": [],
   "source": [
    "def get_judges(num, scale, reviewers, reviews, news):\n",
    "    \n",
    "    # 每個評價者要評價的每則評分\n",
    "    pairs = [[review.review_id, review.review_score, review.news_score, judger_id] for review in reviews.itertuples(index = False) for judger_id in reviewers['reader_id']]\n",
    "    judges = pd.DataFrame(pairs, columns = ['review_id', 'review_score', 'news_score', 'judger_id'])\n",
    "\n",
    "    # 評價公式，評分的分數與實際的分數越準確，評價分數越高(假設所有讀者都是理性的)\n",
    "    judging = lambda review_score, real_score: scale.max - abs(review_score - real_score)\n",
    "    \n",
    "    # 計算每則評分的評價分數\n",
    "    judges['judge_score'] = [judging(judge.review_score, judge.news_score) for judge in judges.itertuples(index = False)]\n",
    "    \n",
    "    return index_as_id(judges, 'judge')\n",
    "\n",
    "judges = get_judges(num, scale, readers, reviews, news)\n",
    "judges.head()"
   ]
  },
  {
   "cell_type": "markdown",
   "metadata": {},
   "source": [
    "#### 合併在一起，方便後續測試"
   ]
  },
  {
   "cell_type": "code",
   "execution_count": null,
   "metadata": {},
   "outputs": [],
   "source": [
    "def get_data(news, reviews, judges):\n",
    "    cols_to_use = lambda right, left: left.columns.difference(right.columns)\n",
    "\n",
    "    data = judges.merge(reviews[cols_to_use(judges, reviews)], left_on = 'review_id', right_index = True)\n",
    "    data = data.merge(news[cols_to_use(data, news)], left_on = 'news_id', right_index = True)\n",
    "    data['judger_weight'] = [reader_weight_holder.get(judger_id) for judger_id in data['judger_id']]\n",
    "\n",
    "    # 排除自己評自己的\n",
    "    data = data[data.judger_id != data.reviewer_id]\n",
    "\n",
    "    return data\n",
    "\n",
    "data = get_data(news, reviews, judges)\n",
    "data.head()"
   ]
  },
  {
   "cell_type": "code",
   "execution_count": null,
   "metadata": {},
   "outputs": [],
   "source": [
    "# 每個新聞的評價分數平均\n",
    "import matplotlib.pyplot as plt\n",
    "\n",
    "v = data.groupby('news_id')['judge_score'].mean()\n",
    "plt.hist(v, density = True)"
   ]
  },
  {
   "cell_type": "markdown",
   "metadata": {},
   "source": [
    "## 開始計算可信度 / 權重"
   ]
  },
  {
   "cell_type": "code",
   "execution_count": null,
   "metadata": {},
   "outputs": [],
   "source": [
    "# 計算每個讀者的可信度/權重\n",
    "def get_reviewer_weights(data):\n",
    "    # 我想知道，這個judge的評價加權後是多少，所以分數要乘以某個權重，權重是倍數的概念，來自於之前做了多少對的事\n",
    "    # 這個評價分數代表評分的品質，評分的品質，也代表評分者的品質，因為每個judge_score代表其他讀者對自己的評價\n",
    "\n",
    "    # 讀者的權重= (其他讀者對這個讀者的評分的評價 * 其他讀者的權重) 的 加權平均\n",
    "    # weight(user) = sum(score(judge_u1)*weight(user1) + score(judge_u2)*weight(user2) + ... + score(judge_uN)*weight(userN)) / sum(weights)\n",
    "\n",
    "    # 先計算每個讀者的新權重\n",
    "    judger_weight_averaging = lambda x: np.average(x['judge_score'], weights = x.judger_weight)\n",
    "    reviewer_weights = data.groupby('reviewer_id').apply(judger_weight_averaging)\n",
    "    \n",
    "    return reviewer_weights\n",
    "\n",
    "reviewer_weights = get_reviewer_weights(data)\n",
    "reviewer_weights"
   ]
  },
  {
   "cell_type": "code",
   "execution_count": null,
   "metadata": {},
   "outputs": [],
   "source": [
    "# 更新讀者權重\n",
    "def update_reader_weight(reviewer_weights, data):\n",
    "\n",
    "    reader_weight_holder.inserts(reviewer_weights.to_dict())\n",
    "    data['reviewer_weight'] = [reader_weight_holder.get(reviewer_id) for reviewer_id in data['reviewer_id']]\n",
    "    \n",
    "update_reader_weight(reviewer_weights, data)\n",
    "reader_weight_holder.print_all()"
   ]
  },
  {
   "cell_type": "code",
   "execution_count": null,
   "metadata": {},
   "outputs": [],
   "source": [
    "# 計算新聞的可信度/權重\n",
    "def get_news_weight(data):\n",
    "    # 每個新聞的可信度等於 讀者對該新聞的評分 * 該讀者的可信度權重 的 加權平均。\n",
    "    # weight(news) = sum[score(review_u1)*weight(user1) + score(review_u2)*weight(user2) + ..... + score(review_uN)*weight(userN)] / sum(weight(users))\n",
    "\n",
    "    # 計算每個記者的可信度\n",
    "    review_weight_averaging = lambda x: np.average(x['review_score'], weights = x.reviewer_weight)\n",
    "    news_weights = data.groupby('news_id').apply(review_weight_averaging)\n",
    "\n",
    "    return news_weights\n",
    "\n",
    "news_weights = get_news_weight(data)\n",
    "news_weights.head()"
   ]
  },
  {
   "cell_type": "code",
   "execution_count": null,
   "metadata": {},
   "outputs": [],
   "source": [
    "# 計算報導者的可信度/權重\n",
    "def get_reporter_weights(data):\n",
    "    reporter_weights = data.groupby('reporter_id').apply(review_weight_averaging)\n",
    "    \n",
    "    return reporter_weights\n",
    "\n",
    "reporter_weights = get_reporter_weights(data)\n",
    "reporter_weights.head()"
   ]
  },
  {
   "cell_type": "code",
   "execution_count": null,
   "metadata": {},
   "outputs": [],
   "source": [
    "# 重覆多次\n",
    "def simulate(times):\n",
    "    for i in range(times):\n",
    "        news = get_news(num, scale, reporters)\n",
    "        reviews = get_reviews(num, scale, readers, news)\n",
    "        judges = get_judges(num, scale, readers, reviews, news)\n",
    "        data = get_data(news, reviews, judges)\n",
    "        \n",
    "        reviewer_weights = get_reviewer_weights(data)\n",
    "        update_reader_weight(reviewer_weights, data)\n",
    "\n",
    "simulate(5)\n",
    "\n",
    "get_reporter_weights(data)"
   ]
  },
  {
   "cell_type": "code",
   "execution_count": null,
   "metadata": {},
   "outputs": [],
   "source": [
    "past_weights = reader_weight_holder.past_weights\n",
    "\n",
    "for value in past_weights.values():\n",
    "    plt.plot(range(len(value)), value)\n",
    "\n",
    "plt.show()\n"
   ]
  },
  {
   "cell_type": "code",
   "execution_count": null,
   "metadata": {},
   "outputs": [],
   "source": [
    "data.count()"
   ]
  },
  {
   "cell_type": "markdown",
   "metadata": {},
   "source": [
    "### 不公正的使用者"
   ]
  },
  {
   "cell_type": "markdown",
   "metadata": {},
   "source": [
    "#### 評分不公正，評價公正"
   ]
  },
  {
   "cell_type": "markdown",
   "metadata": {},
   "source": [
    "#### 評分公正，評價不公正"
   ]
  },
  {
   "cell_type": "markdown",
   "metadata": {},
   "source": [
    "#### 評分和評價都不公正"
   ]
  }
 ],
 "metadata": {
  "kernelspec": {
   "display_name": "Python 3",
   "language": "python",
   "name": "python3"
  },
  "language_info": {
   "codemirror_mode": {
    "name": "ipython",
    "version": 3
   },
   "file_extension": ".py",
   "mimetype": "text/x-python",
   "name": "python",
   "nbconvert_exporter": "python",
   "pygments_lexer": "ipython3",
   "version": "3.7.3"
  }
 },
 "nbformat": 4,
 "nbformat_minor": 2
}

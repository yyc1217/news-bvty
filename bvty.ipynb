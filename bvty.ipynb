{
 "cells": [
  {
   "cell_type": "markdown",
   "metadata": {},
   "source": [
    "# 以創意擇優對新聞進行可信度評價"
   ]
  },
  {
   "cell_type": "markdown",
   "metadata": {},
   "source": [
    "# 基本假設\n",
    "1. 可信度定義：1 ~ 5。\n",
    "2. 每個使用者的評分都是理性的\n",
    "3. 所有新聞被所有使用者評分\n",
    "4. 所有評分被所有使用者評價\n",
    "\n",
    "TODO 另寫一篇文章，來講解這裡的東西，用小論文的格式，放在readme"
   ]
  },
  {
   "cell_type": "markdown",
   "metadata": {},
   "source": [
    "### 變數定義\n",
    "變數名稱|中文|說明\n",
    ":----|:----:|----\n",
    "reporter|報導者|\n",
    "news|新聞|\n",
    "user|使用者|\n",
    "review|評分|對新聞打分數\n",
    "reviewer|評分者|對新聞打分數的使用者\n",
    "judge|評價|對評分打分數\n",
    "judger|評價者|對評分打分數的使用者\n",
    "score|分數|\n",
    "weight|權重|即為可信度"
   ]
  },
  {
   "cell_type": "code",
   "execution_count": null,
   "metadata": {},
   "outputs": [],
   "source": [
    "# 初始化\n",
    "import pandas as pd\n",
    "import numpy as np\n",
    "\n",
    "num = {\n",
    "    'reporter' : 5,\n",
    "    'news_per_reporter' : 30,\n",
    "    'user' : 13,\n",
    "    'user_weight_window' : 10 # 權重計算最長筆數\n",
    "}\n",
    "\n",
    "# 評分分數範圍\n",
    "class Scale:\n",
    "    \n",
    "    def __init__(self, min = 1, max = 5):\n",
    "        self.min = min\n",
    "        self.max = max\n",
    "        self.mean = (min + max) / 2\n",
    "        \n",
    "    def arange(self):\n",
    "        return np.arange(self.min, self.max + 1)\n",
    "\n",
    "scale = Scale()\n",
    "\n",
    "def index_as_id(data_frame, suffix):\n",
    "    \n",
    "    data_frame[suffix + '_id'] = data_frame.index\n",
    "    \n",
    "    columns = data_frame.columns.tolist()\n",
    "    columns = columns[-1:] + columns[:-1]\n",
    "    data_frame = data_frame[columns]\n",
    "    \n",
    "    return data_frame"
   ]
  },
  {
   "cell_type": "markdown",
   "metadata": {},
   "source": [
    "### 產生測試資料"
   ]
  },
  {
   "cell_type": "code",
   "execution_count": null,
   "metadata": {},
   "outputs": [],
   "source": [
    "# 使用者\n",
    "def get_users(num):\n",
    "    users = pd.DataFrame({\n",
    "        'user_id' : np.arange(num['user'])\n",
    "    })\n",
    "    return users\n",
    "\n",
    "users = get_users(num)\n",
    "users.head()"
   ]
  },
  {
   "cell_type": "code",
   "execution_count": null,
   "metadata": {},
   "outputs": [],
   "source": [
    "# 管理使用者權重\n",
    "class UserWeightHolder:\n",
    "\n",
    "    past_weights = {}\n",
    "    weights = {}\n",
    "    \n",
    "    def __init__(self, users, init_mean, user_weight_window = 10):\n",
    "        self.users = users\n",
    "        self.user_weight_window = user_weight_window\n",
    "        self.init_mean = init_mean\n",
    "        \n",
    "        self.reset()\n",
    "    \n",
    "    def reset(self):\n",
    "        self.past_weights = {user_id: np.repeat(self.init_mean, self.user_weight_window).tolist() for user_id in self.users['user_id']}\n",
    "        self.weights = {user_id: self.init_mean for user_id in self.users['user_id']}\n",
    "    \n",
    "    def get(self, user_id):\n",
    "        return self.weights[user_id]\n",
    "    \n",
    "    def inserts(self, new_weights):\n",
    "        for user_id, new_weight in new_weights.items():\n",
    "            \n",
    "            self.past_weights[user_id].pop(0)\n",
    "            self.past_weights[user_id].append(new_weight)\n",
    "            \n",
    "            # TODO 簡單平均數、加權平均數、做對事情，權重越高\n",
    "            self.weights[user_id] = sum(self.past_weights[user_id]) / self.user_weight_window\n",
    "        \n",
    "    def print(self):\n",
    "        print('weights:', self.weights)\n",
    "        print('past_weights:', self.past_weights)\n",
    "\n",
    "user_weight_holder = UserWeightHolder(users, scale.mean, num['user_weight_window'])\n",
    "user_weight_holder.print()"
   ]
  },
  {
   "cell_type": "code",
   "execution_count": null,
   "metadata": {},
   "outputs": [],
   "source": [
    "class WeightCalculator:\n",
    "    \n",
    "    def __init__(self, xp, fp):\n",
    "        self.xp = xp\n",
    "        self.fp = fp\n",
    "\n",
    "    def cal(self, x):\n",
    "        return np.interp(x, self.xp, self.fp)\n",
    "    \n",
    "weight_calculator = WeightCalculator([scale.min**2, scale.max**2], [scale.min, scale.max])"
   ]
  },
  {
   "cell_type": "code",
   "execution_count": null,
   "metadata": {},
   "outputs": [],
   "source": [
    "# 報導者\n",
    "def get_reporters(num):\n",
    "    reporters = pd.DataFrame({\n",
    "        'bvlty': np.random.randn(num['reporter'])\n",
    "    })\n",
    "    return index_as_id(reporters, 'reporter')\n",
    "\n",
    "reporters = get_reporters(num)\n",
    "\n",
    "reporters.head()"
   ]
  },
  {
   "cell_type": "code",
   "execution_count": null,
   "metadata": {},
   "outputs": [],
   "source": [
    "# 新聞\n",
    "# X新聞可信度定義為：依據報導者的可信度產生的可信度 + 媒體偏好度\n",
    "# 每個新聞都有一個真實的評分\n",
    "\n",
    "def get_news(num, scale, reporters):\n",
    "    \n",
    "    # 報導者column\n",
    "    reporters = list(reporters['reporter_id']) * num['news_per_reporter']\n",
    "\n",
    "    # 找出每則新聞報導者的可信度\n",
    "    # authors_bvlty = [reporters.iloc[author_index].bvlty for author_index in authors]\n",
    "\n",
    "    # 定義每則新聞的可信度，因為與報導者相關，定義為 N(author.bvty, 1)，所以後面再加上報導者的可信度\n",
    "    # news_bvlty = np.random.randn(num_news) + authors_bvlty\n",
    "\n",
    "    # 假設每則新聞都有一個真實評分\n",
    "    # TODO 可以與報導者的素質做連結?\n",
    "    news_real_scores = np.random.choice(scale.arange(), len(reporters))\n",
    "\n",
    "    # TODO 視覺化一下，是否可信度高的報導者會擁有可信度高的新聞\n",
    "\n",
    "    # 新聞\n",
    "    news = pd.DataFrame({\n",
    "        'reporter_id' : reporters,\n",
    "        'news_real_score' : news_real_scores\n",
    "    })\n",
    "    \n",
    "    return index_as_id(news, 'news')\n",
    "\n",
    "news = get_news(num, scale, reporters)\n",
    "\n",
    "news.head()"
   ]
  },
  {
   "cell_type": "code",
   "execution_count": null,
   "metadata": {},
   "outputs": [],
   "source": [
    "#使用者對新聞的評分\n",
    "def get_reviews(num, scale, reviewers, news):\n",
    "\n",
    "    # 每個評分者要評分的每則新聞\n",
    "    pairs = [[reviewer_id, n.news_id, n.news_real_score] for reviewer_id in reviewers['user_id'] for n in news.itertuples(index = False)]\n",
    "    reviews = pd.DataFrame(pairs, columns = ['reviewer_id', 'news_id', 'news_real_score'])\n",
    "\n",
    "    # 每個使用者對每則新聞的評分\n",
    "    reviews['review_score'] = np.random.choice(scale.arange(), len(pairs))\n",
    "\n",
    "    return index_as_id(reviews, 'review')\n",
    "\n",
    "reviews = get_reviews(num, scale, users, news)\n",
    "\n",
    "reviews.head()"
   ]
  },
  {
   "cell_type": "code",
   "execution_count": null,
   "metadata": {},
   "outputs": [],
   "source": [
    "#使用者對\"評分\"的評價\n",
    "def get_judges(num, scale, reviewers, reviews, news):\n",
    "    \n",
    "    # 每個評價者要評價的每則評分\n",
    "    pairs = [[review.review_id, review.review_score, review.news_real_score, judger_id] for review in reviews.itertuples(index = False) for judger_id in reviewers['user_id']]\n",
    "    judges = pd.DataFrame(pairs, columns = ['review_id', 'review_score', 'news_real_score', 'judger_id'])\n",
    "\n",
    "    # 評價公式，評分的分數與實際的分數越準確，評價分數越高(假設所有使用者都是理性的)\n",
    "    judging = lambda review_score, real_score: scale.max - abs(review_score - real_score)\n",
    "    \n",
    "    # 計算每則評分的評價分數\n",
    "    judges['judge_score'] = [judging(judge.review_score, judge.news_real_score) for judge in judges.itertuples(index = False)]\n",
    "    \n",
    "    return judges\n",
    "\n",
    "judges = get_judges(num, scale, users, reviews, news)\n",
    "\n",
    "judges.head()"
   ]
  },
  {
   "cell_type": "code",
   "execution_count": null,
   "metadata": {},
   "outputs": [],
   "source": [
    "# 合併成dataset\n",
    "cols_to_use = lambda right, left: left.columns.difference(right.columns)\n",
    "\n",
    "data = judges.merge(reviews[cols_to_use(judges, reviews)], left_on = 'review_id', right_index = True)\n",
    "data = data.merge(news[cols_to_use(data, news)], left_on = 'news_id', right_index = True)\n",
    "data['judger_weight'] = [user_weight_holder.get(judger_id) for judger_id in data['judger_id']]\n",
    "\n",
    "# 排除自己評自己的\n",
    "data = data[data.judger_id != data.reviewer_id]\n",
    "\n",
    "data.head()"
   ]
  },
  {
   "cell_type": "markdown",
   "metadata": {},
   "source": [
    "## 開始計算可信度 / 權重"
   ]
  },
  {
   "cell_type": "code",
   "execution_count": null,
   "metadata": {},
   "outputs": [],
   "source": [
    "# 計算每個使用者的可信度/權重\n",
    "\n",
    "# 我想知道，這個judge的評價加權後是多少，所以分數要乘以某個權重，權重是倍數的概念，來自於之前做了多少對的事\n",
    "\n",
    "# 使用者的權重= (其他使用者對這個使用者的評分的評價 * 其他使用者的權重) 的 加權平均\n",
    "# weight(user) = sum(score(judge_u1)*weight(user1) + score(judge_u2)*weight(user2) + ... + score(judge_uN)*weight(userN)) / sum(weights)\n",
    "\n",
    "# 先計算每個使用者的新權重\n",
    "judger_weight_averaging = lambda x: np.average(x['judge_score'], weights = x.judger_weight)\n",
    "judger_weights = data.groupby('judger_id').apply(judger_weight_averaging)\n",
    "\n",
    "# 更新data的使用者權重\n",
    "user_weight_holder.inserts(judger_weights.to_dict())\n",
    "user_weight_holder.print()"
   ]
  },
  {
   "cell_type": "code",
   "execution_count": null,
   "metadata": {},
   "outputs": [],
   "source": [
    "# 計算新聞的可信度/權重\n",
    "\n",
    "# 每個新聞的可信度等於 使用者對該新聞的評分 * 該使用者的可信度權重 的 加權平均。\n",
    "# weight(news) = sum[score(review_u1)*weight(user1) + score(review_u2)*weight(user2) + ..... + score(review_uN)*weight(userN)] / sum(weight(users))\n",
    "\n",
    "# 先計算每個review的加權後分數 = 使用者的權重 * 使用者的評分\n",
    "data['review_score_weighted'] = [user_weight_holder.get(d.reviewer_id) * d.review_score for d in data.itertuples()]\n",
    "#data['review_score_weighted'] = [weight_calculator.cal(review_score) for review_score in data['review_score_weighted']]\n",
    "\n",
    "# 計算每個新聞的可信度 / 權重\n",
    "# news_weights = data.groupby('news_id', as_index = False)['review_score_weighted'].mean()\n",
    "\n",
    "# 在data加上新聞的可信度\n",
    "#news_weights.rename(columns = {'review_score_weighted': 'news_weight'}, inplace = True)\n",
    "#data = data.merge(news_weights, left_on = 'news_id', right_on = 'news_id',  how = 'left').sort_index()\n",
    "\n",
    "#data.describe()"
   ]
  },
  {
   "cell_type": "code",
   "execution_count": null,
   "metadata": {},
   "outputs": [],
   "source": [
    "data.groupby('news_id')['news_weight'].describe()"
   ]
  },
  {
   "cell_type": "code",
   "execution_count": null,
   "metadata": {},
   "outputs": [],
   "source": [
    "# 計算記者的可信度 / 權重\n",
    "\n",
    "# 每個記者的可信度來自於所寫新聞的可信度簡單平均數\n",
    "# weight(reporter) = avg[weight(news1) + weight(news2) + .... + weight(newsN)]\n",
    "reporter_weight = data.groupby('reporter_id', as_index = False)['news_weight'].mean()\n",
    "reporter_weight.rename(columns = {'news_weight' : 'reporter_weight'}, inplace = True)\n",
    "reporter_weight.head(20)"
   ]
  }
 ],
 "metadata": {
  "kernelspec": {
   "display_name": "Python 3",
   "language": "python",
   "name": "python3"
  },
  "language_info": {
   "codemirror_mode": {
    "name": "ipython",
    "version": 3
   },
   "file_extension": ".py",
   "mimetype": "text/x-python",
   "name": "python",
   "nbconvert_exporter": "python",
   "pygments_lexer": "ipython3",
   "version": "3.7.3"
  }
 },
 "nbformat": 4,
 "nbformat_minor": 2
}

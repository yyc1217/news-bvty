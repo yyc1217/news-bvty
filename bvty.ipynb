{
 "cells": [
  {
   "cell_type": "markdown",
   "metadata": {},
   "source": [
    "# 以創意擇優對新聞進行可信度評價"
   ]
  },
  {
   "cell_type": "markdown",
   "metadata": {},
   "source": [
    "## 基本假設\n",
    "1. 可信度定義：N(0, 1)，負數代表不可信，正數代表可信，0代表中立。\n",
    "2. 每個使用者的評分都是理性的\n",
    "3. 待補\n",
    "\n",
    "另寫一篇文章，來講解這裡的東西，用小論文的格式"
   ]
  },
  {
   "cell_type": "markdown",
   "metadata": {},
   "source": [
    "### 變數定義\n",
    "變數名稱|中文|說明\n",
    ":----|:----:|----\n",
    "reporter|報導者|\n",
    "news|新聞|\n",
    "user|使用者|\n",
    "review|評分|對新聞打分數\n",
    "reviewer|評分者|對新聞打分數的使用者\n",
    "judge|評價|對評分打分數\n",
    "judger|評價者|對評分打分數的使用者\n",
    "weight|權重|即為可信度"
   ]
  },
  {
   "cell_type": "code",
   "execution_count": null,
   "metadata": {},
   "outputs": [],
   "source": [
    "# 初始化\n",
    "import pandas as pd\n",
    "import numpy as np\n",
    "\n",
    "num = {\n",
    "    'reporter' : 10,\n",
    "    'news' : 150,\n",
    "    'user' : 130,\n",
    "    'review' : 150,\n",
    "    'judge' : 200\n",
    "}\n",
    "\n",
    "# 評分分數範圍\n",
    "class Scale:\n",
    "    \n",
    "    def __init__(self, min = 1, max = 5):\n",
    "        self.min = min\n",
    "        self.max = max\n",
    "        self.mean = (min + max) / 2\n",
    "        \n",
    "    def arange(self):\n",
    "        return np.arange(self.min, self.max + 1)\n",
    "\n",
    "scale = Scale()"
   ]
  },
  {
   "cell_type": "markdown",
   "metadata": {},
   "source": [
    "### 產生測試資料"
   ]
  },
  {
   "cell_type": "code",
   "execution_count": null,
   "metadata": {},
   "outputs": [],
   "source": [
    "# 使用者\n",
    "def get_users(num):\n",
    "    users = pd.DataFrame({\n",
    "        'user_weight' : np.repeat(scale.mean, num['user'])\n",
    "    })\n",
    "    return users\n",
    "\n",
    "users = get_users(num)\n",
    "\n",
    "users.head()"
   ]
  },
  {
   "cell_type": "code",
   "execution_count": null,
   "metadata": {},
   "outputs": [],
   "source": [
    "# 報導者\n",
    "\n",
    "def get_reporters(num):\n",
    "    reporters = pd.DataFrame({\n",
    "        'bvlty': np.random.randn(num['reporter'])\n",
    "    })\n",
    "    return reporters\n",
    "\n",
    "reporters = get_reporters(num)\n",
    "\n",
    "reporters.head()"
   ]
  },
  {
   "cell_type": "code",
   "execution_count": null,
   "metadata": {},
   "outputs": [],
   "source": [
    "# 新聞\n",
    "# X新聞可信度定義為：依據報導者的可信度產生的可信度 + 媒體偏好度\n",
    "# 每個新聞都有一個真實的評分\n",
    "\n",
    "def get_news(num, scale):\n",
    "    \n",
    "    # 先選擇每則新聞的報導者\n",
    "    selected_reporters = np.random.choice(np.arange(num['reporter']), num['news'])\n",
    "\n",
    "    # 找出每則新聞報導者的可信度\n",
    "    # authors_bvlty = [reporters.iloc[author_index].bvlty for author_index in authors]\n",
    "\n",
    "    # 定義每則新聞的可信度，因為與報導者相關，定義為 N(author.bvty, 1)，所以後面再加上報導者的可信度\n",
    "    # news_bvlty = np.random.randn(num_news) + authors_bvlty\n",
    "\n",
    "    # 每則新聞的真實評分\n",
    "    # TODO 可以與報導者的素質做連結?\n",
    "    news_real_scores = np.random.choice(scale.arange(), num['news'])\n",
    "\n",
    "    # TODO 視覺化一下，是否可信度高的報導者會擁有可信度高的新聞\n",
    "\n",
    "    # 新聞\n",
    "    news = pd.DataFrame({\n",
    "        'reporter_id' : selected_reporters,\n",
    "        'news_real_score' : news_real_scores\n",
    "    })\n",
    "    \n",
    "    return news\n",
    "\n",
    "news = get_news(num, scale)\n",
    "\n",
    "news.head()"
   ]
  },
  {
   "cell_type": "code",
   "execution_count": null,
   "metadata": {},
   "outputs": [],
   "source": [
    "#使用者對新聞的評分\n",
    "def get_reviews(num, scale):\n",
    "\n",
    "    # 先選擇要被評分的新聞\n",
    "    selected_news = np.random.choice(np.arange(num['news']), num['review'])\n",
    "\n",
    "    # 使用者對該新聞的評分\n",
    "    review_scores = np.random.choice(scale.arange(), num['review'])\n",
    "\n",
    "    # 哪些使用者\n",
    "    reviewers = np.random.choice(np.arange(num['user']), num['review'])\n",
    "\n",
    "    reviews = pd.DataFrame({\n",
    "        'reviewer_id' : reviewers,\n",
    "        'news_id': selected_news,\n",
    "        'review_score': review_scores\n",
    "    })\n",
    "    \n",
    "    return reviews\n",
    "\n",
    "reviews = get_reviews(num, scale)\n",
    "reviews.head()"
   ]
  },
  {
   "cell_type": "code",
   "execution_count": null,
   "metadata": {},
   "outputs": [],
   "source": [
    "#使用者對\"其他使用者為新聞的評分\"的評分\n",
    "\n",
    "def get_judges(num, scale, reviews, news):\n",
    "    \n",
    "    # 先選擇要被評分的scoring\n",
    "    selected_reviews = np.random.choice(np.arange(num['review']), num['judge'])\n",
    "\n",
    "    # 取得新聞\n",
    "    news_ids = [reviews.iloc[review_index].news_id for review_index in selected_reviews]\n",
    "\n",
    "    # 取得這些新聞的真實評分\n",
    "    news_real_scores = [news.iloc[news_index].news_real_score for news_index in news_ids]\n",
    "    \n",
    "    # 取得這些scoring(使用者對新聞)的評分\n",
    "    review_scores = [reviews.iloc[review_index].review_score for review_index in selected_reviews]\n",
    "\n",
    "    # 評價公式\n",
    "    judging = lambda review_score, real_score: scale.max - abs(review_score - real_score)\n",
    "    \n",
    "    # 其他使用者對該scoring的評分(假設所有使用者都是理性的)\n",
    "    judge_scores = [judging(review_scores[i], news_real_scores[i]) for i in range(num['judge'])]\n",
    "    \n",
    "    # 有哪些評價者\n",
    "    judgers = np.random.choice(np.arange(num['user']), num['judge'])\n",
    "\n",
    "    judges = pd.DataFrame({\n",
    "        'review_id' : selected_reviews,\n",
    "        'judger_id' : judgers,\n",
    "        'judge_score': judge_scores\n",
    "    })\n",
    "    \n",
    "    return judges\n",
    "\n",
    "judges = get_judges(num, scale, reviews, news)\n",
    "\n",
    "judges.head()"
   ]
  },
  {
   "cell_type": "code",
   "execution_count": null,
   "metadata": {},
   "outputs": [],
   "source": [
    "# 合併成dataset\n",
    "# data = \n",
    "data = judges.merge(reviews, left_on = 'review_id', right_index = True)\n",
    "data = data.merge(news, left_on = 'news_id', right_index = True)\n",
    "data = data.merge(users, left_on = 'reviewer_id', right_index = True).sort_index()\n",
    "\n",
    "data.head()"
   ]
  },
  {
   "cell_type": "code",
   "execution_count": null,
   "metadata": {},
   "outputs": [],
   "source": [
    "# 計算每個使用者的可信度/權重\n",
    "# TODO 權重就是可信度嗎？ 可能是吧，權重越高，評價越重要\n",
    "\n",
    "# 使用者的權重= (其他使用者對這個使用者的評分的評價 * 其他使用者的權重) 的 加權平均\n",
    "# weight(user) = avg[score(judge_u1)*weight(user1) + score(judge_u2)*weight(user2) + ... + score(judge_uN)*weight(userN)]\n",
    "\n",
    "# 事先計算每個judge的加權後分數 = 使用者對judge的評價 * (使用者的權重 / 權重的最大值)\n",
    "data['judge_score_weighted'] = data['judge_score'] * data['user_weight'] / scale.max\n",
    "\n",
    "# 計算每個使用者的新權重 = 每個judge的加權後分數 的平均\n",
    "new_user_weight = data.groupby('reviewer_id', as_index = False)['judge_score_weighted'].mean()\n",
    "\n",
    "# 更新data的使用者權重\n",
    "new_user_weight.rename(columns = {'judge_score_weighted': 'user_weight'}, inplace = True)\n",
    "data = data.drop(columns = ['user_weight'])\n",
    "data = data.merge(new_user_weight, left_on = 'reviewer_id', right_on = 'reviewer_id',  how = 'left').sort_index()\n",
    "\n",
    "data.head()"
   ]
  },
  {
   "cell_type": "code",
   "execution_count": null,
   "metadata": {},
   "outputs": [],
   "source": [
    "# 計算新聞的可信度/權重\n",
    "\n",
    "# 每個新聞的可信度等於 使用者對該新聞的評分 * 該使用者的可信度權重 的 加權平均。\n",
    "# weight(news) = avg[score(review_u1)*weight(user1) + score(review_u2)*weight(user2) + ..... + score(review_uN)*weight(userN)]\n",
    "\n",
    "# 先計算每個review的加權後分數 = 使用者對該新聞的評分 * (使用者的權重 / 權重的最大值)\n",
    "data['review_score_weighted'] = data['review_score'] * data['user_weight'] / scale.max\n",
    "\n",
    "# 計算每個新聞的可信度 / 權重\n",
    "news_weight = data.groupby('news_id', as_index = False)['review_score_weighted'].mean()\n",
    "\n",
    "# 在data加上新聞的可信度\n",
    "news_weight.rename(columns = {'review_score_weighted': 'news_weight'}, inplace = True)\n",
    "data = data.merge(news_weight, left_on = 'news_id', right_on = 'news_id',  how = 'left').sort_index()\n",
    "\n",
    "data.head(10)"
   ]
  },
  {
   "cell_type": "code",
   "execution_count": null,
   "metadata": {},
   "outputs": [],
   "source": [
    "# 計算記者的可信度 / 權重\n",
    "\n",
    "# 每個記者的可信度來自於所寫新聞的可信度簡單平均數\n",
    "# weight(reporter) = avg[weight(news1) + weight(news2) + .... + weight(newsN)]\n",
    "reporter_weight = data.groupby('reporter_id', as_index = False)['news_weight'].mean()\n",
    "reporter_weight.rename(columns = {'news_weight' : 'reporter_weight'}, inplace = True)\n",
    "reporter_weight.head(10)"
   ]
  }
 ],
 "metadata": {
  "kernelspec": {
   "display_name": "Python 3",
   "language": "python",
   "name": "python3"
  },
  "language_info": {
   "codemirror_mode": {
    "name": "ipython",
    "version": 3
   },
   "file_extension": ".py",
   "mimetype": "text/x-python",
   "name": "python",
   "nbconvert_exporter": "python",
   "pygments_lexer": "ipython3",
   "version": "3.7.3"
  }
 },
 "nbformat": 4,
 "nbformat_minor": 2
}

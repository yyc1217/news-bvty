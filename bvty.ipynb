{
 "cells": [
  {
   "cell_type": "markdown",
   "metadata": {},
   "source": [
    "# 以可信度加權對新聞進行可信度評價"
   ]
  },
  {
   "cell_type": "markdown",
   "metadata": {},
   "source": [
    "## 說明\n",
    "\n",
    "本文乃XXX的實作，請參考該文。\n",
    "\n",
    "TODO 另寫一篇文章，來講解這裡的東西，用小論文的格式，放在readme"
   ]
  },
  {
   "cell_type": "markdown",
   "metadata": {},
   "source": [
    "### 變數定義\n",
    "變數名稱|中文|說明\n",
    ":----|:----:|----\n",
    "reporter|報導者|\n",
    "news|新聞|\n",
    "reader|讀者|\n",
    "review|評分|對新聞打分數\n",
    "reviewer|評分者|對新聞打分數的讀者\n",
    "judge|評價|對評分打分數\n",
    "judger|評價者|對評分打分數的讀者\n",
    "score|分數|即為可信度，同weight\n",
    "weight|權重|即為可信度，同score"
   ]
  },
  {
   "cell_type": "markdown",
   "metadata": {},
   "source": [
    "### 測試資料"
   ]
  },
  {
   "cell_type": "markdown",
   "metadata": {},
   "source": [
    "#### 初始化"
   ]
  },
  {
   "cell_type": "code",
   "execution_count": null,
   "metadata": {},
   "outputs": [],
   "source": [
    "import pandas as pd\n",
    "import numpy as np\n",
    "\n",
    "num = {\n",
    "    \n",
    "    # 報導者人數\n",
    "    'reporter' : 8,\n",
    "    \n",
    "    # 每個報導者生產新聞數\n",
    "    'news_per_reporter' : 40,\n",
    "    \n",
    "    # 讀者人數\n",
    "    'reader' : 20,\n",
    "    \n",
    "    # 讀者舊權重保留筆數\n",
    "    'reader_pass_weight_window' : 10 \n",
    "}"
   ]
  },
  {
   "cell_type": "markdown",
   "metadata": {},
   "source": [
    "#### 分數範圍管理"
   ]
  },
  {
   "cell_type": "code",
   "execution_count": null,
   "metadata": {},
   "outputs": [],
   "source": [
    "class Scale:\n",
    "    def __init__(self, min = 1, max = 10):\n",
    "        self.min = min\n",
    "        self.max = max\n",
    "        self.mean = (min + max) / 2\n",
    "        self.sigma = (self.max - self.mean) / 3\n",
    "        \n",
    "    def arange(self):\n",
    "        return np.arange(self.min, self.max + 1)\n",
    "\n",
    "    def translateZ(self, z_score):\n",
    "        translated = z_score * self.sigma + self.mean\n",
    "        return max(min(translated, self.max), self.min)"
   ]
  },
  {
   "cell_type": "markdown",
   "metadata": {},
   "source": [
    "#### Helper Functions"
   ]
  },
  {
   "cell_type": "code",
   "execution_count": null,
   "metadata": {},
   "outputs": [],
   "source": [
    "# 讓index做為id，並獨立存在同一欄內\n",
    "def index_as_id(data_frame, suffix):\n",
    "    \n",
    "    data_frame[suffix + '_id'] = data_frame.index\n",
    "    \n",
    "    columns = data_frame.columns.tolist()\n",
    "    columns = columns[-1:] + columns[:-1]\n",
    "    data_frame = data_frame[columns]\n",
    "    \n",
    "    return data_frame"
   ]
  },
  {
   "cell_type": "markdown",
   "metadata": {},
   "source": [
    "#### 讀者"
   ]
  },
  {
   "cell_type": "code",
   "execution_count": null,
   "metadata": {},
   "outputs": [],
   "source": [
    "def get_readers(n):\n",
    "    readers = pd.DataFrame({\n",
    "        'reader_id' : np.arange(n)\n",
    "    })\n",
    "    return readers\n",
    "\n",
    "get_readers(num['reader']).head()"
   ]
  },
  {
   "cell_type": "markdown",
   "metadata": {},
   "source": [
    "#### 讀者權重管理"
   ]
  },
  {
   "cell_type": "code",
   "execution_count": null,
   "metadata": {},
   "outputs": [],
   "source": [
    "class ReaderWeightHolder:\n",
    "    \n",
    "    # 目前的權重\n",
    "    weights = {}\n",
    "    \n",
    "    # 過去的權重\n",
    "    past_weights = {}\n",
    "\n",
    "    def __init__(self, readers, init_mean, reader_pass_weight_window = 10):\n",
    "        self.readers = readers\n",
    "        self.reader_pass_weight_window = reader_pass_weight_window\n",
    "        self.init_mean = init_mean\n",
    "\n",
    "        self.reset()\n",
    "\n",
    "    def reset(self):\n",
    "        self.past_weights = {reader_id: np.repeat(self.init_mean, self.reader_pass_weight_window).tolist() for reader_id in self.readers['reader_id']}\n",
    "        self.weights = {reader_id: self.init_mean for reader_id in self.readers['reader_id']}\n",
    "\n",
    "    def get(self, reader_id):\n",
    "        return self.weights[reader_id]\n",
    "\n",
    "    def inserts(self, new_weights):\n",
    "        \n",
    "        for reader_id, new_weight in new_weights.items():  \n",
    "            self.past_weights[reader_id].pop(0)\n",
    "            self.past_weights[reader_id].append(new_weight)\n",
    "            # TODO 簡單平均數、加權平均數、做對事情，權重越高\n",
    "            self.weights[reader_id] = sum(self.past_weights[reader_id]) / self.reader_pass_weight_window\n",
    "\n",
    "    def print_weights(self, n = 5):\n",
    "        return pd.DataFrame.from_dict(self.weights, orient = 'index', columns = ['weight']).rename_axis('user_id').head(n)\n",
    "    \n",
    "    def print_past_weights(self, n = 5):\n",
    "        return pd.DataFrame.from_dict(self.past_weights, orient = 'index').rename_axis('user_id').head(n)\n",
    "\n",
    "    def print_all(self):\n",
    "        print(self.weights)\n",
    "        print(self.past_weights)"
   ]
  },
  {
   "cell_type": "code",
   "execution_count": null,
   "metadata": {},
   "outputs": [],
   "source": [
    "ReaderWeightHolder(get_readers(num['reader']), Scale().mean, num['reader_pass_weight_window']).print_weights()"
   ]
  },
  {
   "cell_type": "code",
   "execution_count": null,
   "metadata": {},
   "outputs": [],
   "source": [
    "ReaderWeightHolder(get_readers(num['reader']), Scale().mean, num['reader_pass_weight_window']).print_past_weights()"
   ]
  },
  {
   "cell_type": "markdown",
   "metadata": {},
   "source": [
    "#### 報導者"
   ]
  },
  {
   "cell_type": "code",
   "execution_count": null,
   "metadata": {},
   "outputs": [],
   "source": [
    "def get_reporters(n, scale):\n",
    "    \n",
    "    # 常態分佈下的分數機率\n",
    "    z_scores = np.random.randn(n)\n",
    "    \n",
    "    # 換算成實際分數\n",
    "    scores = [scale.translateZ(z_score) for z_score in z_scores]\n",
    "    \n",
    "    reporters = pd.DataFrame({\n",
    "        'reporter_score': scores,\n",
    "        'reporter_z_scores': z_scores\n",
    "    })\n",
    "\n",
    "    return index_as_id(reporters, 'reporter')\n",
    "\n",
    "get_reporters(num['reader'], Scale()).head()"
   ]
  },
  {
   "cell_type": "markdown",
   "metadata": {},
   "source": [
    "#### 新聞"
   ]
  },
  {
   "cell_type": "code",
   "execution_count": null,
   "metadata": {},
   "outputs": [],
   "source": [
    "def get_news(per_reporter, scale, reporters):\n",
    "        \n",
    "    # 報導者column\n",
    "    reporter_ids = list(reporters['reporter_id']) * per_reporter\n",
    "    \n",
    "    #新聞報導者的可信度z分數\n",
    "    reporter_z_scores = list(reporters['reporter_z_scores']) * per_reporter\n",
    "    \n",
    "    # 定義每則新聞的可信度z分數，因為與報導者相關，將其定義為 N(author.z_score, 1)，所以後面要再加上報導者的可信度\n",
    "    news_z_scores = np.random.randn(len(reporter_ids)) + reporter_z_scores\n",
    "    \n",
    "    # 新聞的真實可信度\n",
    "    news_scores = [scale.translateZ(news_z_score) for news_z_score in news_z_scores]\n",
    "    \n",
    "    # TODO 視覺化一下，是否可信度高的報導者會擁有可信度高的新聞\n",
    "\n",
    "    news = pd.DataFrame({\n",
    "        'reporter_id' : reporter_ids,\n",
    "        'news_score' : news_scores, \n",
    "        'news_z_score': news_z_scores\n",
    "    })\n",
    "    \n",
    "    return index_as_id(news, 'news')\n",
    "\n",
    "get_news(num['news_per_reporter'], Scale(), reporters).head()"
   ]
  },
  {
   "cell_type": "markdown",
   "metadata": {},
   "source": [
    "#### 評分結果"
   ]
  },
  {
   "cell_type": "code",
   "execution_count": null,
   "metadata": {},
   "outputs": [],
   "source": [
    "def get_reviews(scale, reviewers, news):\n",
    "    \n",
    "    # 先準備每個評分者要評分的每則新聞\n",
    "    prepared = [[reviewer_id, n.news_id, n.reporter_id, n.news_score, n.news_z_score] for reviewer_id in reviewers['reader_id'] for n in news.itertuples(index = False)]\n",
    "    reviews = pd.DataFrame(prepared, columns = ['reviewer_id', 'news_id', 'reporter_id', 'news_score', 'news_z_score'])\n",
    "\n",
    "    # TODO 可以與讀者的可信度做連結?\n",
    "    # TODO 視覺化一下，是否可信度高的讀者會做出可信度高的評分\n",
    "    \n",
    "    # 每個讀者對每則新聞的評分\n",
    "    \n",
    "    #如果是均勻分布的話，且公正評分與公正評價，那似乎會以7.25為平均線\n",
    "    #reviews['review_score'] = np.random.choice(scale.arange(), len(prepared))\n",
    "    \n",
    "    # 評分與新聞的可信度相關\n",
    "    reviews['review_z_score'] = np.random.randn(len(reviews)) + reviews['news_z_score']\n",
    "    reviews['review_score'] = [scale.translateZ(review_z_score) for review_z_score in reviews['review_z_score']]\n",
    "\n",
    "    return index_as_id(reviews, 'review')\n",
    "\n",
    "def test_get_reviews():\n",
    "    scale = Scale()\n",
    "    readers = get_readers(num['reader'])\n",
    "    reporters = get_reporters(num['reporter'] , scale)\n",
    "    news = get_news(num['news_per_reporter'], scale, reporters)\n",
    "    \n",
    "    return get_reviews(scale, readers, news)\n",
    "\n",
    "test_get_reviews().head()"
   ]
  },
  {
   "cell_type": "markdown",
   "metadata": {},
   "source": [
    "#### 評價結果"
   ]
  },
  {
   "cell_type": "code",
   "execution_count": null,
   "metadata": {},
   "outputs": [],
   "source": [
    "def get_judges(scale, reviewers, reviews, news):\n",
    "    \n",
    "    # 每個評價者要評價的每則評分\n",
    "    pairs = [[review.review_id, review.review_score, review.news_score, review.reporter_id, judger_id] for review in reviews.itertuples(index = False) for judger_id in reviewers['reader_id']]\n",
    "    judges = pd.DataFrame(pairs, columns = ['review_id', 'review_score', 'news_score', 'reporter_id', 'judger_id'])\n",
    "\n",
    "    # 評價公式，評分的分數與實際的分數越準確，評價分數越高(假設所有讀者都是理性的)\n",
    "    judging = lambda review_score, real_score: scale.max - abs(review_score - real_score)\n",
    "    \n",
    "    # 計算每則評分的評價分數\n",
    "    judges['judge_score'] = [judging(judge.review_score, judge.news_score) for judge in judges.itertuples(index = False)]\n",
    "    \n",
    "    return index_as_id(judges, 'judge')\n",
    "\n",
    "def test_get_judges():\n",
    "    scale = Scale()\n",
    "    readers = get_readers(num['reader'])\n",
    "    reporters = get_reporters(num['reporter'] , scale)\n",
    "    news = get_news(num['news_per_reporter'], scale, reporters)\n",
    "    reviews = get_reviews(scale, readers, news)\n",
    "    \n",
    "    return get_judges(scale, readers, reviews, news)\n",
    "\n",
    "test_get_judges().head()"
   ]
  },
  {
   "cell_type": "markdown",
   "metadata": {},
   "source": [
    "#### 合併在一起，方便後續測試"
   ]
  },
  {
   "cell_type": "code",
   "execution_count": null,
   "metadata": {},
   "outputs": [],
   "source": [
    "def get_data(news, reviews, judges):\n",
    "    cols_to_use = lambda right, left: left.columns.difference(right.columns)\n",
    "\n",
    "    data = judges.merge(reviews[cols_to_use(judges, reviews)], left_on = 'review_id', right_index = True)\n",
    "    data = data.merge(news[cols_to_use(data, news)], left_on = 'news_id', right_index = True)\n",
    "    data['judger_weight'] = [reader_weight_holder.get(judger_id) for judger_id in data['judger_id']]\n",
    "\n",
    "    # 排除自己評自己的\n",
    "    data = data[data.judger_id != data.reviewer_id]\n",
    "\n",
    "    return data\n",
    "\n",
    "def test_get_data():\n",
    "    scale = Scale()\n",
    "    readers = get_readers(num['reader'])\n",
    "    reporters = get_reporters(num['reporter'] , scale)\n",
    "    news = get_news(num['news_per_reporter'], scale, reporters)\n",
    "    reviews = get_reviews(scale, readers, news)\n",
    "    judges = get_judges(scale, readers, reviews, news)\n",
    "\n",
    "    return get_data(news, reviews, judges)\n",
    "    \n",
    "test_get_data().head()"
   ]
  },
  {
   "cell_type": "code",
   "execution_count": null,
   "metadata": {},
   "outputs": [],
   "source": [
    "# 每個新聞的評價分數平均\n",
    "import matplotlib.pyplot as plt\n",
    "\n",
    "r = data.groupby('news_id')['review_score'].mean()\n",
    "plt.hist(r, density = True)"
   ]
  },
  {
   "cell_type": "markdown",
   "metadata": {},
   "source": [
    "## 開始計算可信度 / 權重"
   ]
  },
  {
   "cell_type": "code",
   "execution_count": null,
   "metadata": {},
   "outputs": [],
   "source": [
    "# 計算每個讀者的可信度/權重\n",
    "def get_reviewer_weights(data):\n",
    "    # 我想知道，這個judge的評價加權後是多少，所以分數要乘以某個權重，權重是倍數的概念，來自於之前做了多少對的事\n",
    "    # 這個評價分數代表評分的品質，評分的品質，也代表評分者的品質，因為每個judge_score代表其他讀者對自己的評價\n",
    "\n",
    "    # 讀者的權重= (其他讀者對這個讀者的評分的評價 * 其他讀者的權重) 的 加權平均\n",
    "    # weight(user) = sum(score(judge_u1)*weight(user1) + score(judge_u2)*weight(user2) + ... + score(judge_uN)*weight(userN)) / sum(weights)\n",
    "\n",
    "    # 先計算每個讀者的新權重\n",
    "    judger_weight_averaging = lambda x: np.average(x['judge_score'], weights = x.judger_weight)\n",
    "    reviewer_weights = data.groupby('reviewer_id').apply(judger_weight_averaging)\n",
    "    \n",
    "    return reviewer_weights\n",
    "\n",
    "reviewer_weights = get_reviewer_weights(data)\n",
    "reviewer_weights"
   ]
  },
  {
   "cell_type": "code",
   "execution_count": null,
   "metadata": {},
   "outputs": [],
   "source": [
    "# 更新讀者權重\n",
    "def update_reader_weight(reviewer_weights, data):\n",
    "\n",
    "    reader_weight_holder.inserts(reviewer_weights.to_dict())\n",
    "    data['reviewer_weight'] = [reader_weight_holder.get(reviewer_id) for reviewer_id in data['reviewer_id']]\n",
    "    \n",
    "update_reader_weight(reviewer_weights, data)\n",
    "reader_weight_holder.print_all()"
   ]
  },
  {
   "cell_type": "code",
   "execution_count": null,
   "metadata": {},
   "outputs": [],
   "source": [
    "review_weight_averaging = lambda x: np.average(x['review_score'], weights = x.reviewer_weight)\n",
    "review_averaging = lambda x:np.average(x['review_score'])\n",
    "\n",
    "# 計算新聞的可信度/權重\n",
    "def get_news_score(data, averaging_func):\n",
    "    # 每個新聞的可信度等於 讀者對該新聞的評分 * 該讀者的可信度權重 的 加權平均。\n",
    "    # weight(news) = sum[score(review_u1)*weight(user1) + score(review_u2)*weight(user2) + ..... + score(review_uN)*weight(userN)] / sum(weight(users))\n",
    "\n",
    "    # 計算每個新聞的可信度\n",
    "    news_scores = data.groupby('news_id').apply(averaging_func)\n",
    "\n",
    "    return news_scores\n",
    "\n",
    "def get_reporter_score(data, averaging_func):\n",
    "    \n",
    "    reporter_scores = data.groupby('reporter_id').apply(averaging_func)\n",
    "    \n",
    "    return reporter_scores\n",
    "\n",
    "# 評分直接計算出來的新聞可信度\n",
    "plt.subplot(2, 1, 1)\n",
    "news_scores = get_news_score(data, review_averaging)\n",
    "print(news_scores.head())\n",
    "plt.hist(news_scores, density = True)\n",
    "plt.subplot(2, 1, 2)\n",
    "# 評分*評分者可信度計算出來的新聞可信度\n",
    "news_scores_weighted = get_news_score(data, review_weight_averaging)\n",
    "print(news_scores_weighted.head())\n",
    "plt.hist(news_scores_weighted, density = True)\n",
    "plt.show()"
   ]
  },
  {
   "cell_type": "code",
   "execution_count": null,
   "metadata": {},
   "outputs": [],
   "source": [
    "# 計算報導者的可信度/權重\n",
    "def get_reporter_weights(data):\n",
    "    reporter_weights = data.groupby('reporter_id').apply(review_weight_averaging)\n",
    "    \n",
    "    return reporter_weights\n",
    "\n",
    "reporter_weights = get_reporter_weights(data)\n",
    "reporter_weights.head()"
   ]
  },
  {
   "cell_type": "code",
   "execution_count": null,
   "metadata": {},
   "outputs": [],
   "source": [
    "# 重覆多次\n",
    "def simulate(times):\n",
    "    \n",
    "    reader_weight_holder.reset()\n",
    "    scale = Scale()\n",
    "    \n",
    "    for i in range(times):\n",
    "        news = get_news(num, scale, reporters)\n",
    "        reviews = get_reviews(num, scale, readers, news)\n",
    "        judges = get_judges(num, scale, readers, reviews, news)\n",
    "        data = get_data(news, reviews, judges)\n",
    "        \n",
    "        reviewer_weights = get_reviewer_weights(data)\n",
    "        update_reader_weight(reviewer_weights, data)\n",
    "\n",
    "    return data\n",
    "\n",
    "data = simulate(5)\n",
    "\n",
    "get_reporter_weights(data)"
   ]
  },
  {
   "cell_type": "code",
   "execution_count": null,
   "metadata": {},
   "outputs": [],
   "source": [
    "# 評分直接計算出來的新聞可信度\n",
    "plt.subplot(2, 1, 1)\n",
    "news_scores = get_news_score(data, review_averaging)\n",
    "print(news_scores.head())\n",
    "plt.hist(news_scores, density = True)\n",
    "plt.subplot(2, 1, 2)\n",
    "# 評分*評分者可信度計算出來的新聞可信度\n",
    "news_scores_weighted = get_news_score(data, review_weight_averaging)\n",
    "print(news_scores_weighted.head())\n",
    "plt.hist(news_scores_weighted, density = True)\n",
    "plt.show()"
   ]
  },
  {
   "cell_type": "code",
   "execution_count": null,
   "metadata": {},
   "outputs": [],
   "source": [
    "'''\n",
    "past_weights = reader_weight_holder.past_weights\n",
    "\n",
    "for value in past_weights.values():\n",
    "    plt.plot(range(len(value)), value)\n",
    "\n",
    "plt.show()\n",
    "\n",
    "# 因為都有公正的評價，所以權重都很高，似乎以7.25為平均線\n",
    "'''\n",
    "reporters.head()"
   ]
  },
  {
   "cell_type": "code",
   "execution_count": null,
   "metadata": {},
   "outputs": [],
   "source": [
    "data.count()"
   ]
  },
  {
   "cell_type": "markdown",
   "metadata": {},
   "source": [
    "### 不公正的使用者"
   ]
  },
  {
   "cell_type": "code",
   "execution_count": null,
   "metadata": {},
   "outputs": [],
   "source": [
    "# 特定讀者\n",
    "def get_unfair_readers(readers, percent = 0.2):\n",
    "    return readers.sample(frac = percent)\n",
    "\n",
    "def get_unfair_scores():\n",
    "    return [9, 10]"
   ]
  },
  {
   "cell_type": "markdown",
   "metadata": {},
   "source": [
    "#### 評分不公正，評價公正"
   ]
  },
  {
   "cell_type": "code",
   "execution_count": null,
   "metadata": {},
   "outputs": [],
   "source": [
    "# 什麼叫做不公正，就是遇到特定報導者寫出來的新聞，會一律評高分或低分\n",
    "# 這邊寫出有0% 20% 40% 50% 60%的不公正評分者情況下，實際的報導者可信度會是多少\n",
    "def get_unfair_reviews(reviews, readers, reporters, unfair_readers, unfair_scores, target_reporters):\n",
    "\n",
    "    grep_unfair_reviews = reviews['reviewer_id'].isin(unfair_readers['reader_id'])\n",
    "    grep_unfair_reviews &= reviews['reporter_id'].isin(target_reporters['reporter_id'])\n",
    "    \n",
    "    # 符合以上條件的評分\n",
    "    unfair_reviews = reviews[grep_unfair_reviews]\n",
    "    \n",
    "    # 修改評分分數\n",
    "    reviews.loc[grep_unfair_reviews, 'review_score'] = np.random.choice(unfair_scores, len(unfair_reviews))\n",
    "    \n",
    "    return reviews"
   ]
  },
  {
   "cell_type": "code",
   "execution_count": null,
   "metadata": {},
   "outputs": [],
   "source": [
    "# 重覆多次\n",
    "def simulate_unfair_review(times, unfair_reader_percent = 0.1):\n",
    "    \n",
    "    reader_weight_holder.reset()\n",
    "    scale = Scale()\n",
    "\n",
    "    unfair_scores = get_unfair_scores()    \n",
    "    unfair_readers = get_unfair_readers(readers, unfair_reader_percent)\n",
    "    # 特定報導者\n",
    "    target_reporters = reporters.iloc[0:3]\n",
    "    \n",
    "    print('unfair_readers:\\n', unfair_readers)\n",
    "    \n",
    "    for i in range(times):\n",
    "        news = get_news(num, scale, reporters)\n",
    "        reviews = get_reviews(num, scale, readers, news)\n",
    "        reviews = get_unfair_reviews(reviews, readers, reporters, unfair_readers, unfair_scores, target_reporters)\n",
    "        judges = get_judges(num, scale, readers, reviews, news)\n",
    "        data = get_data(news, reviews, judges)\n",
    "        \n",
    "        reviewer_weights = get_reviewer_weights(data)\n",
    "        update_reader_weight(reviewer_weights, data)\n",
    "\n",
    "    return data\n",
    "\n",
    "data = simulate_unfair_review(10, 0.2)\n",
    "\n",
    "get_reporter_weights(data)"
   ]
  },
  {
   "cell_type": "code",
   "execution_count": null,
   "metadata": {},
   "outputs": [],
   "source": [
    "# 評分直接計算出來的報導者可信度\n",
    "def draw_reporter_scores(data):\n",
    "    \n",
    "    # 報導者可信度\n",
    "    plt.subplot(1, 1, 1)\n",
    "    plt.xticks(np.arange(0, len(reporters), 1.0))\n",
    "\n",
    "    # 評分直接計算\n",
    "    reporter_scores = get_reporter_score(data, review_averaging)\n",
    "    plt.plot(reporter_scores, label = 'simple avg')\n",
    "    \n",
    "    # 評分*評分者可信度計算\n",
    "    reporter_scores_weighted = get_reporter_score(data, review_weight_averaging)\n",
    "    plt.plot(reporter_scores_weighted, label = 'weighted avg')\n",
    "\n",
    "    plt.plot(reporters['reporter_score'], label = 'real')\n",
    "    \n",
    "    plt.legend(loc = 'upper right')\n",
    "    plt.show()\n",
    "    \n",
    "draw_reporter_scores(data)"
   ]
  },
  {
   "cell_type": "code",
   "execution_count": null,
   "metadata": {},
   "outputs": [],
   "source": [
    "def draw_user_weights():\n",
    "    weights = list(reader_weight_holder.weights.values())\n",
    "    print(weights)\n",
    "\n",
    "    plt.ylim(0, 10)\n",
    "    plt.xticks(np.arange(0, len(readers), 1.0))\n",
    "    plt.plot(weights)\n",
    "    \n",
    "draw_user_weights()"
   ]
  },
  {
   "cell_type": "markdown",
   "metadata": {},
   "source": [
    "#### 評分公正，評價不公正"
   ]
  },
  {
   "cell_type": "code",
   "execution_count": null,
   "metadata": {},
   "outputs": [],
   "source": [
    "# 這邊跳過，直接探討下一個好了\n",
    "# 什麼叫做不公正，就是遇到特定報導者寫出來的新聞的評分，如果太低的話會評低分（打壓），高的話則是高分（讚賞）\n",
    "# 這邊寫出有0% 20% 40% 50% 60%的不公正評價者情況下，實際的報導者可信度會是多少\n",
    "def get_unfair_judges(judges, readers, reporters, unfair_readers, target_reporters):\n",
    "\n",
    "    grep_unfair_judges = judges['judger_id'].isin(unfair_readers['reader_id'])\n",
    "    \n",
    "    grep_unfair_judges &= judges['reporter_id'].isin(target_reporters['reporter_id'])\n",
    "    \n",
    "    # 符合以上條件的評分\n",
    "    unfair_judges = judges[grep_unfair_judges]\n",
    "    \n",
    "    # 修改評分分數\n",
    "    judges.loc[grep_unfair_judges, 'judge_score'] = judges['review_score']\n",
    "    \n",
    "    return judges"
   ]
  },
  {
   "cell_type": "code",
   "execution_count": null,
   "metadata": {},
   "outputs": [],
   "source": [
    "# 重覆多次\n",
    "def simulate_unfair_judges(times, unfair_reader_percent = 0.2):\n",
    "    \n",
    "    reader_weight_holder.reset()\n",
    "    scale = Scale()\n",
    "\n",
    "    unfair_readers = get_unfair_readers(readers, unfair_reader_percent)\n",
    "    # 特定報導者\n",
    "    target_reporters = reporters.iloc[0:1]\n",
    "    \n",
    "    for i in range(times):\n",
    "        news = get_news(num, scale, reporters)\n",
    "        reviews = get_reviews(num, scale, readers, news)\n",
    "        judges = get_judges(num, scale, readers, reviews, news)\n",
    "        judges = get_unfair_judges(judges, readers, reporters, unfair_readers, target_reporters)\n",
    "        data = get_data(news, reviews, judges)\n",
    "        \n",
    "        reviewer_weights = get_reviewer_weights(data)\n",
    "        update_reader_weight(reviewer_weights, data)\n",
    "\n",
    "    return data\n",
    "\n",
    "data = simulate_unfair_judges(5, 0.2)\n",
    "\n",
    "get_reporter_weights(data)"
   ]
  },
  {
   "cell_type": "code",
   "execution_count": null,
   "metadata": {},
   "outputs": [],
   "source": [
    "draw_reporter_scores(data)"
   ]
  },
  {
   "cell_type": "code",
   "execution_count": null,
   "metadata": {},
   "outputs": [],
   "source": [
    "draw_user_weights()"
   ]
  },
  {
   "cell_type": "markdown",
   "metadata": {},
   "source": [
    "#### 評分和評價都不公正"
   ]
  },
  {
   "cell_type": "code",
   "execution_count": null,
   "metadata": {},
   "outputs": [],
   "source": [
    "def simulate_unfair_review_and_judge(times, unfair_reader_percent = 0.1):\n",
    "    \n",
    "    reader_weight_holder.reset()\n",
    "    scale = Scale()\n",
    "\n",
    "    unfair_scores = get_unfair_scores()    \n",
    "    unfair_readers = get_unfair_readers(readers, unfair_reader_percent)\n",
    "    # 特定報導者\n",
    "    target_reporters = reporters.iloc[0:1]\n",
    "    \n",
    "    print('unfair_readers:\\n', unfair_readers)\n",
    "    \n",
    "    for i in range(times):\n",
    "        news = get_news(num, scale, reporters)\n",
    "        reviews = get_reviews(num, scale, readers, news)\n",
    "        reviews = get_unfair_reviews(reviews, readers, reporters, unfair_readers, unfair_scores, target_reporters)\n",
    "        judges = get_judges(num, scale, readers, reviews, news)\n",
    "        judges = get_unfair_judges(judges, readers, reporters, unfair_readers, target_reporters)\n",
    "        data = get_data(news, reviews, judges)\n",
    "        \n",
    "        reviewer_weights = get_reviewer_weights(data)\n",
    "        update_reader_weight(reviewer_weights, data)\n",
    "\n",
    "    return data\n",
    "\n",
    "data = simulate_unfair_review(10, 0.2)\n",
    "\n",
    "get_reporter_weights(data)"
   ]
  },
  {
   "cell_type": "code",
   "execution_count": null,
   "metadata": {},
   "outputs": [],
   "source": [
    "draw_reporter_scores(data)"
   ]
  },
  {
   "cell_type": "code",
   "execution_count": null,
   "metadata": {},
   "outputs": [],
   "source": [
    "draw_user_weights()"
   ]
  }
 ],
 "metadata": {
  "kernelspec": {
   "display_name": "Python 3",
   "language": "python",
   "name": "python3"
  },
  "language_info": {
   "codemirror_mode": {
    "name": "ipython",
    "version": 3
   },
   "file_extension": ".py",
   "mimetype": "text/x-python",
   "name": "python",
   "nbconvert_exporter": "python",
   "pygments_lexer": "ipython3",
   "version": "3.7.3"
  }
 },
 "nbformat": 4,
 "nbformat_minor": 2
}
